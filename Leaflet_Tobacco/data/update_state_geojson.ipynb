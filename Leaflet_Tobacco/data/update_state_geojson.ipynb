{
 "cells": [
  {
   "cell_type": "code",
   "execution_count": 11,
   "id": "72de26a7-a840-4da2-ac71-a0295285c5a6",
   "metadata": {},
   "outputs": [],
   "source": [
    "# This file adds the state all invasive cancer rates to the base state borders GeoJSON file\n",
    "import pandas as pd\n",
    "import json"
   ]
  },
  {
   "cell_type": "code",
   "execution_count": 12,
   "id": "4db5f156-3da7-4d56-9310-6f83fc72378a",
   "metadata": {},
   "outputs": [],
   "source": [
    "geojson_file = 'state_updated.json'\n",
    "with open(geojson_file, 'r') as f:\n",
    "    geo_data = json.load(f)\n",
    "\n",
    "csv_file = 'lung_cancer.csv'\n",
    "csv_data = pd.read_csv(csv_file)\n",
    "# print(geo_data['features'][0]['properties']['NAME'])\n",
    "# print(csv_data.head())"
   ]
  },
  {
   "cell_type": "code",
   "execution_count": 13,
   "id": "dd444288-6751-46f9-a851-3e063fbaf2b8",
   "metadata": {},
   "outputs": [],
   "source": [
    "# Match geojson_file's NAME key to csv_data's LocationDesc column\n",
    "\n",
    "csv_dict = csv_data.set_index('LocationDesc')[\"DataValue\"].to_dict()\n",
    "# display(csv_dict)\n",
    "# Iterate through each feature in the GeoJSON file\n",
    "for feature in geo_data['features']:\n",
    "    # Extract the State name of the current feature\n",
    "    feature_name = feature['properties']['NAME']\n",
    "    # Add the new variable if the State name matches between CSV and GeoJSON\n",
    "    if feature_name in csv_dict:\n",
    "        feature['properties']['Lung Cancer, Average Annual Incidence, 2011-2015'] = csv_dict[feature_name]\n",
    "        # feature['properties']['Adult_Smoker_Rate_2013'] = csv_dict[feature_name]\n",
    "        # feature['properties']['Poverty_Rate_2013-2015'] = csv_dict[feature_name]\n",
    "        # feature['properties'].update(csv_dict[feature_name])"
   ]
  },
  {
   "cell_type": "code",
   "execution_count": 14,
   "id": "b7464335-aea0-4c1b-bc19-15d3146b5aae",
   "metadata": {},
   "outputs": [],
   "source": [
    "output_geojson_file = 'state_updated.json'\n",
    "with open(output_geojson_file, 'w') as f:\n",
    "    json.dump(geo_data, f)"
   ]
  },
  {
   "cell_type": "code",
   "execution_count": null,
   "id": "5a7af25f-21ba-4b24-a11d-bca7e9d1ec97",
   "metadata": {},
   "outputs": [],
   "source": []
  }
 ],
 "metadata": {
  "kernelspec": {
   "display_name": "Python 3 (ipykernel)",
   "language": "python",
   "name": "python3"
  },
  "language_info": {
   "codemirror_mode": {
    "name": "ipython",
    "version": 3
   },
   "file_extension": ".py",
   "mimetype": "text/x-python",
   "name": "python",
   "nbconvert_exporter": "python",
   "pygments_lexer": "ipython3",
   "version": "3.10.14"
  }
 },
 "nbformat": 4,
 "nbformat_minor": 5
}
